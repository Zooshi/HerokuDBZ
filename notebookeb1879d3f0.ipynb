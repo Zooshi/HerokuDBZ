{
  "nbformat": 4,
  "nbformat_minor": 0,
  "metadata": {
    "kernelspec": {
      "language": "python",
      "display_name": "Python 3",
      "name": "python3"
    },
    "language_info": {
      "name": "python",
      "version": "3.7.10",
      "mimetype": "text/x-python",
      "codemirror_mode": {
        "name": "ipython",
        "version": 3
      },
      "pygments_lexer": "ipython3",
      "nbconvert_exporter": "python",
      "file_extension": ".py"
    },
    "colab": {
      "name": "notebookeb1879d3f0.ipynb",
      "provenance": [],
      "include_colab_link": true
    }
  },
  "cells": [
    {
      "cell_type": "markdown",
      "metadata": {
        "id": "view-in-github",
        "colab_type": "text"
      },
      "source": [
        "<a href=\"https://colab.research.google.com/github/Zooshi/HerokuDBZ/blob/master/notebookeb1879d3f0.ipynb\" target=\"_parent\"><img src=\"https://colab.research.google.com/assets/colab-badge.svg\" alt=\"Open In Colab\"/></a>"
      ]
    },
    {
      "cell_type": "code",
      "metadata": {
        "execution": {
          "iopub.status.busy": "2021-08-07T08:27:47.470413Z",
          "iopub.execute_input": "2021-08-07T08:27:47.470800Z",
          "iopub.status.idle": "2021-08-07T08:27:49.581321Z",
          "shell.execute_reply.started": "2021-08-07T08:27:47.470769Z",
          "shell.execute_reply": "2021-08-07T08:27:49.580460Z"
        },
        "trusted": true,
        "id": "_pHBygqY7Qb2",
        "outputId": "46ba79a8-0d32-494b-fb4f-4f02893504bd"
      },
      "source": [
        "import pandas as pd\n",
        "\n",
        "df = pd.read_csv('/kaggle/input/toxiccomments/toxic comments.csv')\n",
        "df.head()"
      ],
      "execution_count": null,
      "outputs": [
        {
          "output_type": "execute_result",
          "data": {
            "text/plain": [
              "                 id                                       comment_text  toxic  \\\n",
              "0  0000997932d777bf  Explanation\\nWhy the edits made under my usern...      0   \n",
              "1  000103f0d9cfb60f  D'aww! He matches this background colour I'm s...      0   \n",
              "2  000113f07ec002fd  Hey man, I'm really not trying to edit war. It...      0   \n",
              "3  0001b41b1c6bb37e  \"\\nMore\\nI can't make any real suggestions on ...      0   \n",
              "4  0001d958c54c6e35  You, sir, are my hero. Any chance you remember...      0   \n",
              "\n",
              "   severe_toxic  obscene  threat  insult  identity_hate  \n",
              "0             0        0       0       0              0  \n",
              "1             0        0       0       0              0  \n",
              "2             0        0       0       0              0  \n",
              "3             0        0       0       0              0  \n",
              "4             0        0       0       0              0  "
            ],
            "text/html": [
              "<div>\n",
              "<style scoped>\n",
              "    .dataframe tbody tr th:only-of-type {\n",
              "        vertical-align: middle;\n",
              "    }\n",
              "\n",
              "    .dataframe tbody tr th {\n",
              "        vertical-align: top;\n",
              "    }\n",
              "\n",
              "    .dataframe thead th {\n",
              "        text-align: right;\n",
              "    }\n",
              "</style>\n",
              "<table border=\"1\" class=\"dataframe\">\n",
              "  <thead>\n",
              "    <tr style=\"text-align: right;\">\n",
              "      <th></th>\n",
              "      <th>id</th>\n",
              "      <th>comment_text</th>\n",
              "      <th>toxic</th>\n",
              "      <th>severe_toxic</th>\n",
              "      <th>obscene</th>\n",
              "      <th>threat</th>\n",
              "      <th>insult</th>\n",
              "      <th>identity_hate</th>\n",
              "    </tr>\n",
              "  </thead>\n",
              "  <tbody>\n",
              "    <tr>\n",
              "      <th>0</th>\n",
              "      <td>0000997932d777bf</td>\n",
              "      <td>Explanation\\nWhy the edits made under my usern...</td>\n",
              "      <td>0</td>\n",
              "      <td>0</td>\n",
              "      <td>0</td>\n",
              "      <td>0</td>\n",
              "      <td>0</td>\n",
              "      <td>0</td>\n",
              "    </tr>\n",
              "    <tr>\n",
              "      <th>1</th>\n",
              "      <td>000103f0d9cfb60f</td>\n",
              "      <td>D'aww! He matches this background colour I'm s...</td>\n",
              "      <td>0</td>\n",
              "      <td>0</td>\n",
              "      <td>0</td>\n",
              "      <td>0</td>\n",
              "      <td>0</td>\n",
              "      <td>0</td>\n",
              "    </tr>\n",
              "    <tr>\n",
              "      <th>2</th>\n",
              "      <td>000113f07ec002fd</td>\n",
              "      <td>Hey man, I'm really not trying to edit war. It...</td>\n",
              "      <td>0</td>\n",
              "      <td>0</td>\n",
              "      <td>0</td>\n",
              "      <td>0</td>\n",
              "      <td>0</td>\n",
              "      <td>0</td>\n",
              "    </tr>\n",
              "    <tr>\n",
              "      <th>3</th>\n",
              "      <td>0001b41b1c6bb37e</td>\n",
              "      <td>\"\\nMore\\nI can't make any real suggestions on ...</td>\n",
              "      <td>0</td>\n",
              "      <td>0</td>\n",
              "      <td>0</td>\n",
              "      <td>0</td>\n",
              "      <td>0</td>\n",
              "      <td>0</td>\n",
              "    </tr>\n",
              "    <tr>\n",
              "      <th>4</th>\n",
              "      <td>0001d958c54c6e35</td>\n",
              "      <td>You, sir, are my hero. Any chance you remember...</td>\n",
              "      <td>0</td>\n",
              "      <td>0</td>\n",
              "      <td>0</td>\n",
              "      <td>0</td>\n",
              "      <td>0</td>\n",
              "      <td>0</td>\n",
              "    </tr>\n",
              "  </tbody>\n",
              "</table>\n",
              "</div>"
            ]
          },
          "metadata": {
            "tags": []
          },
          "execution_count": 3
        }
      ]
    },
    {
      "cell_type": "code",
      "metadata": {
        "execution": {
          "iopub.status.busy": "2021-08-07T08:29:09.457918Z",
          "iopub.execute_input": "2021-08-07T08:29:09.458295Z",
          "iopub.status.idle": "2021-08-07T08:29:18.655919Z",
          "shell.execute_reply.started": "2021-08-07T08:29:09.458264Z",
          "shell.execute_reply": "2021-08-07T08:29:18.655136Z"
        },
        "trusted": true,
        "colab": {
          "referenced_widgets": [
            "fd085bcc2a084baaa04a2db8fe5a32b9",
            "f2604c3953fb4fdab330a3a61c154497",
            "d741b91694fa481dba31a3f11cf5c780"
          ]
        },
        "id": "xGkhScy07Qb4",
        "outputId": "47bef80f-6e87-4c62-dbb3-6471f75c6ca9"
      },
      "source": [
        "from transformers import DistilBertTokenizerFast\n",
        "from transformers import DistilBertForSequenceClassification\n",
        "tokenizer = DistilBertTokenizerFast.from_pretrained('distilbert-base-uncased')"
      ],
      "execution_count": null,
      "outputs": [
        {
          "output_type": "display_data",
          "data": {
            "text/plain": [
              "Downloading:   0%|          | 0.00/232k [00:00<?, ?B/s]"
            ],
            "application/vnd.jupyter.widget-view+json": {
              "version_major": 2,
              "version_minor": 0,
              "model_id": "fd085bcc2a084baaa04a2db8fe5a32b9"
            }
          },
          "metadata": {
            "tags": []
          }
        },
        {
          "output_type": "display_data",
          "data": {
            "text/plain": [
              "Downloading:   0%|          | 0.00/466k [00:00<?, ?B/s]"
            ],
            "application/vnd.jupyter.widget-view+json": {
              "version_major": 2,
              "version_minor": 0,
              "model_id": "f2604c3953fb4fdab330a3a61c154497"
            }
          },
          "metadata": {
            "tags": []
          }
        },
        {
          "output_type": "display_data",
          "data": {
            "text/plain": [
              "Downloading:   0%|          | 0.00/28.0 [00:00<?, ?B/s]"
            ],
            "application/vnd.jupyter.widget-view+json": {
              "version_major": 2,
              "version_minor": 0,
              "model_id": "d741b91694fa481dba31a3f11cf5c780"
            }
          },
          "metadata": {
            "tags": []
          }
        }
      ]
    },
    {
      "cell_type": "code",
      "metadata": {
        "execution": {
          "iopub.status.busy": "2021-08-07T08:31:34.137269Z",
          "iopub.execute_input": "2021-08-07T08:31:34.137651Z",
          "iopub.status.idle": "2021-08-07T08:31:34.151803Z",
          "shell.execute_reply.started": "2021-08-07T08:31:34.137617Z",
          "shell.execute_reply": "2021-08-07T08:31:34.150806Z"
        },
        "trusted": true,
        "id": "wy8eBil37Qb5"
      },
      "source": [
        "comments = df['comment_text'].tolist()\n",
        "train = comments[:10000]\n",
        "test = comments[10000:20000]"
      ],
      "execution_count": null,
      "outputs": []
    },
    {
      "cell_type": "code",
      "metadata": {
        "execution": {
          "iopub.status.busy": "2021-08-07T08:32:20.593143Z",
          "iopub.execute_input": "2021-08-07T08:32:20.593501Z",
          "iopub.status.idle": "2021-08-07T08:32:24.792812Z",
          "shell.execute_reply.started": "2021-08-07T08:32:20.593461Z",
          "shell.execute_reply": "2021-08-07T08:32:24.791944Z"
        },
        "trusted": true,
        "id": "zcTtxdM37Qb6"
      },
      "source": [
        "train_tk = tokenizer(train,padding='max_length',max_length = 512, truncation =True, return_tensors='pt')"
      ],
      "execution_count": null,
      "outputs": []
    },
    {
      "cell_type": "code",
      "metadata": {
        "execution": {
          "iopub.status.busy": "2021-08-07T08:33:08.811580Z",
          "iopub.execute_input": "2021-08-07T08:33:08.811901Z",
          "iopub.status.idle": "2021-08-07T08:33:13.283317Z",
          "shell.execute_reply.started": "2021-08-07T08:33:08.811873Z",
          "shell.execute_reply": "2021-08-07T08:33:13.282477Z"
        },
        "trusted": true,
        "id": "4eWBieOO7Qb6"
      },
      "source": [
        "test_tk = tokenizer(test,padding='max_length', max_length=512,truncation=True,return_tensors='pt')"
      ],
      "execution_count": null,
      "outputs": []
    },
    {
      "cell_type": "code",
      "metadata": {
        "execution": {
          "iopub.status.busy": "2021-08-07T08:33:25.688943Z",
          "iopub.execute_input": "2021-08-07T08:33:25.689270Z",
          "iopub.status.idle": "2021-08-07T08:33:25.696316Z",
          "shell.execute_reply.started": "2021-08-07T08:33:25.689242Z",
          "shell.execute_reply": "2021-08-07T08:33:25.695329Z"
        },
        "trusted": true,
        "id": "1Uy6ZJef7Qb7",
        "outputId": "2c195060-ae9d-43fc-bf2d-325b3cea2b47"
      },
      "source": [
        "train_tk.keys()"
      ],
      "execution_count": null,
      "outputs": [
        {
          "output_type": "execute_result",
          "data": {
            "text/plain": [
              "dict_keys(['input_ids', 'attention_mask'])"
            ]
          },
          "metadata": {
            "tags": []
          },
          "execution_count": 8
        }
      ]
    },
    {
      "cell_type": "code",
      "metadata": {
        "execution": {
          "iopub.status.busy": "2021-08-07T08:34:01.692925Z",
          "iopub.execute_input": "2021-08-07T08:34:01.693290Z",
          "iopub.status.idle": "2021-08-07T08:34:01.699869Z",
          "shell.execute_reply.started": "2021-08-07T08:34:01.693258Z",
          "shell.execute_reply": "2021-08-07T08:34:01.698781Z"
        },
        "trusted": true,
        "id": "kHNfBMbQ7Qb8",
        "outputId": "a5d44107-6b14-4bcb-913d-b8fe99c330c4"
      },
      "source": [
        "train_tk['input_ids'][0].dtype"
      ],
      "execution_count": null,
      "outputs": [
        {
          "output_type": "execute_result",
          "data": {
            "text/plain": [
              "torch.int64"
            ]
          },
          "metadata": {
            "tags": []
          },
          "execution_count": 11
        }
      ]
    },
    {
      "cell_type": "code",
      "metadata": {
        "execution": {
          "iopub.status.busy": "2021-08-07T08:37:43.477956Z",
          "iopub.execute_input": "2021-08-07T08:37:43.478287Z",
          "iopub.status.idle": "2021-08-07T08:37:43.491785Z",
          "shell.execute_reply.started": "2021-08-07T08:37:43.478257Z",
          "shell.execute_reply": "2021-08-07T08:37:43.490870Z"
        },
        "trusted": true,
        "id": "b9IRE6XC7Qb-"
      },
      "source": [
        "# train_tk['input_ids'][0]\n",
        "import torch\n",
        "import torch.nn as nn\n",
        "from torch.utils.data import DataLoader\n",
        "\n",
        "y = torch.tensor(df.iloc[:,2:].values)\n"
      ],
      "execution_count": null,
      "outputs": []
    },
    {
      "cell_type": "code",
      "metadata": {
        "execution": {
          "iopub.status.busy": "2021-08-07T08:39:17.897025Z",
          "iopub.execute_input": "2021-08-07T08:39:17.897342Z",
          "iopub.status.idle": "2021-08-07T08:39:17.901441Z",
          "shell.execute_reply.started": "2021-08-07T08:39:17.897312Z",
          "shell.execute_reply": "2021-08-07T08:39:17.900609Z"
        },
        "trusted": true,
        "id": "FYGlvkw37QcA"
      },
      "source": [
        "y_train = y[:10000]\n",
        "y_test = y[10000:20000]\n",
        "assert len(y_train)== len(y_test)"
      ],
      "execution_count": null,
      "outputs": []
    },
    {
      "cell_type": "code",
      "metadata": {
        "execution": {
          "iopub.status.busy": "2021-08-07T08:44:20.690874Z",
          "iopub.execute_input": "2021-08-07T08:44:20.691203Z",
          "iopub.status.idle": "2021-08-07T08:44:20.696985Z",
          "shell.execute_reply.started": "2021-08-07T08:44:20.691173Z",
          "shell.execute_reply": "2021-08-07T08:44:20.696034Z"
        },
        "trusted": true,
        "id": "6O98pYiG7QcA"
      },
      "source": [
        "class Dataset:\n",
        "    \n",
        "    def __init__(self,encodings,labels):\n",
        "        self.encodings = encodings\n",
        "        self.labels = labels\n",
        "        \n",
        "    \n",
        "    def __len__(self):\n",
        "        return len(self.labels)\n",
        "        \n",
        "    def __getitem__(self,idx):\n",
        "        return {\n",
        "            'input_ids': self.encodings['input_ids'][idx],\n",
        "            'attention_mask':self.encodings['attention_mask'][idx],\n",
        "            'labels': self.labels[idx]\n",
        "        }"
      ],
      "execution_count": null,
      "outputs": []
    },
    {
      "cell_type": "code",
      "metadata": {
        "execution": {
          "iopub.status.busy": "2021-08-07T08:45:00.547039Z",
          "iopub.execute_input": "2021-08-07T08:45:00.547358Z",
          "iopub.status.idle": "2021-08-07T08:45:00.552133Z",
          "shell.execute_reply.started": "2021-08-07T08:45:00.547329Z",
          "shell.execute_reply": "2021-08-07T08:45:00.550762Z"
        },
        "trusted": true,
        "id": "c1UutilQ7QcB"
      },
      "source": [
        "train_ds = Dataset(train_tk,y_train)\n",
        "test_ds = Dataset(test_tk,y_test)"
      ],
      "execution_count": null,
      "outputs": []
    },
    {
      "cell_type": "code",
      "metadata": {
        "execution": {
          "iopub.status.busy": "2021-08-07T09:14:11.025169Z",
          "iopub.execute_input": "2021-08-07T09:14:11.025556Z",
          "iopub.status.idle": "2021-08-07T09:14:11.031494Z",
          "shell.execute_reply.started": "2021-08-07T09:14:11.025522Z",
          "shell.execute_reply": "2021-08-07T09:14:11.030335Z"
        },
        "trusted": true,
        "id": "-bF-9-Jm7QcC"
      },
      "source": [
        "# train_ds[42]\n",
        "train_dl = DataLoader(train_ds,batch_size=4, shuffle=True)\n",
        "test_dl = DataLoader(test_ds,batch_size=4)"
      ],
      "execution_count": null,
      "outputs": []
    },
    {
      "cell_type": "code",
      "metadata": {
        "execution": {
          "iopub.status.busy": "2021-08-07T08:57:32.712875Z",
          "iopub.execute_input": "2021-08-07T08:57:32.713195Z",
          "iopub.status.idle": "2021-08-07T08:57:32.719957Z",
          "shell.execute_reply.started": "2021-08-07T08:57:32.713166Z",
          "shell.execute_reply": "2021-08-07T08:57:32.719092Z"
        },
        "trusted": true,
        "id": "KHmBigGp7QcC"
      },
      "source": [
        "ex = next(iter(train_dl))"
      ],
      "execution_count": null,
      "outputs": []
    },
    {
      "cell_type": "code",
      "metadata": {
        "execution": {
          "iopub.status.busy": "2021-08-07T08:52:41.622145Z",
          "iopub.execute_input": "2021-08-07T08:52:41.622496Z",
          "iopub.status.idle": "2021-08-07T08:52:41.628193Z",
          "shell.execute_reply.started": "2021-08-07T08:52:41.622467Z",
          "shell.execute_reply": "2021-08-07T08:52:41.627269Z"
        },
        "trusted": true,
        "id": "-dWehGZM7QcC",
        "outputId": "eb227366-a58a-4ba1-8c36-52aa40ddcacc"
      },
      "source": [
        "device = ('cuda' if torch.cuda.is_available else 'cpu')\n",
        "device"
      ],
      "execution_count": null,
      "outputs": [
        {
          "output_type": "execute_result",
          "data": {
            "text/plain": [
              "'cuda'"
            ]
          },
          "metadata": {
            "tags": []
          },
          "execution_count": 36
        }
      ]
    },
    {
      "cell_type": "code",
      "metadata": {
        "execution": {
          "iopub.status.busy": "2021-08-07T08:55:47.590717Z",
          "iopub.execute_input": "2021-08-07T08:55:47.591037Z",
          "iopub.status.idle": "2021-08-07T08:55:47.598698Z",
          "shell.execute_reply.started": "2021-08-07T08:55:47.591008Z",
          "shell.execute_reply": "2021-08-07T08:55:47.597717Z"
        },
        "trusted": true,
        "id": "U6EgiGzh7QcD"
      },
      "source": [
        "class Model(nn.Module):\n",
        "    def __init__(self):\n",
        "        super().__init__()\n",
        "        \n",
        "        self.bert = DistilBertForSequenceClassification.from_pretrained('distilbert-base-uncased')\n",
        "        self.final_layer = self.bert.config.hidden_size\n",
        "        self.final = nn.Linear(self.final_layer,6)\n",
        "        self.bert.classifier = self.final\n",
        "        \n",
        "    def forward(self,encodings):\n",
        "        input_ids = encodings['input_ids'].to(device)\n",
        "        attention_mask = encodings['attention_mask'].to(device)\n",
        "        labels  = encodings['labels'].to(device)\n",
        "        output = self.bert(input_ids,attention_mask)\n",
        "        return output"
      ],
      "execution_count": null,
      "outputs": []
    },
    {
      "cell_type": "code",
      "metadata": {
        "execution": {
          "iopub.status.busy": "2021-08-07T08:56:49.284491Z",
          "iopub.execute_input": "2021-08-07T08:56:49.284824Z",
          "iopub.status.idle": "2021-08-07T08:57:04.121765Z",
          "shell.execute_reply.started": "2021-08-07T08:56:49.284795Z",
          "shell.execute_reply": "2021-08-07T08:57:04.120894Z"
        },
        "trusted": true,
        "colab": {
          "referenced_widgets": [
            "1aa63bc600a040a3a1d5bfa9411e9960",
            "48e4f417dce84acb8104c9f9960cdd5d"
          ]
        },
        "id": "tcSWXysY7QcD",
        "outputId": "f07d4c21-6ced-4560-efc7-5fdb81bca4e0"
      },
      "source": [
        "model = Model()\n",
        "loss = nn.BCEWithLogitsLoss()\n",
        "optimizer = torch.optim.Adam(model.parameters(), lr=5e-5)"
      ],
      "execution_count": null,
      "outputs": [
        {
          "output_type": "display_data",
          "data": {
            "text/plain": [
              "Downloading:   0%|          | 0.00/442 [00:00<?, ?B/s]"
            ],
            "application/vnd.jupyter.widget-view+json": {
              "version_major": 2,
              "version_minor": 0,
              "model_id": "1aa63bc600a040a3a1d5bfa9411e9960"
            }
          },
          "metadata": {
            "tags": []
          }
        },
        {
          "output_type": "display_data",
          "data": {
            "text/plain": [
              "Downloading:   0%|          | 0.00/268M [00:00<?, ?B/s]"
            ],
            "application/vnd.jupyter.widget-view+json": {
              "version_major": 2,
              "version_minor": 0,
              "model_id": "48e4f417dce84acb8104c9f9960cdd5d"
            }
          },
          "metadata": {
            "tags": []
          }
        },
        {
          "output_type": "stream",
          "text": [
            "Some weights of the model checkpoint at distilbert-base-uncased were not used when initializing DistilBertForSequenceClassification: ['vocab_projector.weight', 'vocab_transform.weight', 'vocab_projector.bias', 'vocab_layer_norm.weight', 'vocab_transform.bias', 'vocab_layer_norm.bias']\n",
            "- This IS expected if you are initializing DistilBertForSequenceClassification from the checkpoint of a model trained on another task or with another architecture (e.g. initializing a BertForSequenceClassification model from a BertForPreTraining model).\n",
            "- This IS NOT expected if you are initializing DistilBertForSequenceClassification from the checkpoint of a model that you expect to be exactly identical (initializing a BertForSequenceClassification model from a BertForSequenceClassification model).\n",
            "Some weights of DistilBertForSequenceClassification were not initialized from the model checkpoint at distilbert-base-uncased and are newly initialized: ['classifier.weight', 'pre_classifier.weight', 'pre_classifier.bias', 'classifier.bias']\n",
            "You should probably TRAIN this model on a down-stream task to be able to use it for predictions and inference.\n"
          ],
          "name": "stderr"
        }
      ]
    },
    {
      "cell_type": "code",
      "metadata": {
        "execution": {
          "iopub.status.busy": "2021-08-07T09:18:15.416471Z",
          "iopub.execute_input": "2021-08-07T09:18:15.416856Z",
          "iopub.status.idle": "2021-08-07T09:18:36.176875Z",
          "shell.execute_reply.started": "2021-08-07T09:18:15.416827Z",
          "shell.execute_reply": "2021-08-07T09:18:36.162819Z"
        },
        "trusted": true,
        "id": "2xTXLtyd7QcE"
      },
      "source": [
        "#erst mal ein Beispiel um zu testen ob ein Output rauskommt\n",
        "#nach cuda error mal cpu probieren\n",
        "#device = 'cpu'\n",
        "model = model.to(device)\n",
        "result =model(ex)"
      ],
      "execution_count": null,
      "outputs": []
    },
    {
      "cell_type": "code",
      "metadata": {
        "id": "2H9AU5nG8wLd"
      },
      "source": [
        ""
      ],
      "execution_count": null,
      "outputs": []
    },
    {
      "cell_type": "code",
      "metadata": {
        "execution": {
          "iopub.status.busy": "2021-08-07T09:18:36.187024Z",
          "iopub.execute_input": "2021-08-07T09:18:36.187519Z",
          "iopub.status.idle": "2021-08-07T09:18:36.281088Z",
          "shell.execute_reply.started": "2021-08-07T09:18:36.187484Z",
          "shell.execute_reply": "2021-08-07T09:18:36.280339Z"
        },
        "trusted": true,
        "id": "y345GNqY7QcE",
        "outputId": "8c23db91-82e6-42ab-beae-7f0cf310388e"
      },
      "source": [
        "#Float conversion + device, hat funktioniert!\n",
        "l = loss(result['logits'],ex['labels'].type(torch.FloatTensor).to(device))\n",
        "l"
      ],
      "execution_count": null,
      "outputs": [
        {
          "output_type": "execute_result",
          "data": {
            "text/plain": [
              "tensor(0.7079, grad_fn=<BinaryCrossEntropyWithLogitsBackward>)"
            ]
          },
          "metadata": {
            "tags": []
          },
          "execution_count": 68
        }
      ]
    },
    {
      "cell_type": "code",
      "metadata": {
        "execution": {
          "iopub.status.busy": "2021-08-07T09:14:17.601414Z",
          "iopub.execute_input": "2021-08-07T09:14:17.601801Z",
          "iopub.status.idle": "2021-08-07T09:14:17.607025Z",
          "shell.execute_reply.started": "2021-08-07T09:14:17.601769Z",
          "shell.execute_reply": "2021-08-07T09:14:17.605778Z"
        },
        "trusted": true,
        "id": "uGT0PinT7QcE"
      },
      "source": [
        "#result['logits']\n",
        "torch.cuda.empty_cache()"
      ],
      "execution_count": null,
      "outputs": []
    },
    {
      "cell_type": "code",
      "metadata": {
        "execution": {
          "iopub.status.busy": "2021-08-07T09:18:57.348684Z",
          "iopub.execute_input": "2021-08-07T09:18:57.349006Z"
        },
        "trusted": true,
        "id": "6qT8ARsi7QcE"
      },
      "source": [
        "for i in range(3):\n",
        "    epoch_loss = 0.0\n",
        "    for i, batch in enumerate(train_dl):\n",
        "        #model = model.to(device)\n",
        "        labels = batch['labels'].type(torch.FloatTensor).to(device)\n",
        "        output = model(batch)\n",
        "        optimizer.zero_grad()\n",
        "        batch_loss = loss(output['logits'],labels)\n",
        "        epoch_loss += batch_loss.item()\n",
        "        batch_loss.backward()\n",
        "        optimizer.step()\n",
        "        if i%10 ==0:\n",
        "            print('current loss',batch_loss.item())\n",
        "    print('epoch_done, loss',epoch_loss)"
      ],
      "execution_count": null,
      "outputs": []
    },
    {
      "cell_type": "code",
      "metadata": {
        "id": "FSeygOpb7QcF"
      },
      "source": [
        ""
      ],
      "execution_count": null,
      "outputs": []
    }
  ]
}